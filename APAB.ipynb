{
 "cells": [
  {
   "cell_type": "code",
   "execution_count": null,
   "id": "bb66fe07",
   "metadata": {},
   "outputs": [],
   "source": [
    "import matplotlib.pyplot as plt\n",
    "import math\n",
    "\n",
    "dexlen = 1010\n",
    "\n",
    "def dex0(y,m,d):\n",
    "    return m*((2023-y)+d)\n",
    "def dex1(y,m,d):\n",
    "    apab =(y*m*d) % dexlen\n",
    "    return dexlen if apab == 0 else apab\n",
    "def dex2(y,m,d):\n",
    "    apab = (y+m*d) % dexlen\n",
    "    return dexlen if apab == 0 else apab\n",
    "def dex3(y,m,d):\n",
    "    apab = (y*d*math.floor(math.exp(d*math.pi))) % dexlen\n",
    "    return dexlen if apab == 0 else apab"
   ]
  },
  {
   "cell_type": "code",
   "execution_count": null,
   "id": "b8c3a42b",
   "metadata": {},
   "outputs": [],
   "source": [
    "dex1(1999,2,26)"
   ]
  },
  {
   "cell_type": "code",
   "execution_count": null,
   "id": "539164b6",
   "metadata": {},
   "outputs": [],
   "source": [
    "def get_poke_dict(start_year, end_year, poke_function=dex1):\n",
    "    poke_dict = {poke : 0 for poke in range(1,1011)}\n",
    "    for yyyy in range(start_year, end_year):\n",
    "        for mm in range(1,13):\n",
    "            if mm == 2:\n",
    "                if yyyy % 4:\n",
    "                    max_day = 29\n",
    "                else:\n",
    "                    max_day = 30\n",
    "            elif mm in [4,6,9,11]:\n",
    "                max_day = 31\n",
    "            else:\n",
    "                max_day = 32\n",
    "            for dd in range(1,max_day):\n",
    "                apab = poke_function(yyyy,mm,dd)\n",
    "                \"\"\"\n",
    "                #sylveon bs again\n",
    "                if apab == 700 and poke_function==dex1:\n",
    "                    print(dd,mm,yyyy)\n",
    "                \n",
    "                \"\"\"\n",
    "                poke_dict[apab] +=1\n",
    "    return poke_dict\n",
    "    \n",
    "def check_poke_coverage(start_year, end_year, poke_function=dex1):\n",
    "    \n",
    "    poke_dict = get_poke_dict(start_year, end_year, poke_function)         \n",
    "    \n",
    "    poke_in = 0\n",
    "    poke_out = 0\n",
    "    for i in range(1,1011):\n",
    "        if poke_dict[i]>0:\n",
    "            poke_in+=1\n",
    "            \n",
    "        else:\n",
    "            poke_out+=1\n",
    "    #print(poke_dict[700])#sylveoooon!!!\n",
    "    return poke_in, poke_out, 100*poke_in/dexlen\n",
    "\n",
    "def check_poke_distribution(start_year, end_year, poke_function=dex1):\n",
    "    \n",
    "    poke_dict = get_poke_dict(start_year, end_year, poke_function)\n",
    "    plt.figure(figsize=(13,6))\n",
    "    plt.bar(range(len(poke_dict)), list(poke_dict.values()), align='center')\n",
    "    plt.xticks(range(len(poke_dict)), list(poke_dict.keys()))\n",
    "    plt.axvline(x = 1, color = 'r', label = '1gen')\n",
    "    plt.axvline(x = 152, color = 'r', label = '2gen')\n",
    "    plt.axvline(x = 252, color = 'r', label = '3gen')\n",
    "    plt.axvline(x = 387, color = 'r', label = '4gen')\n",
    "    plt.axvline(x = 494, color = 'r', label = '5gen')\n",
    "    plt.axvline(x = 650, color = 'r', label = '6gen')\n",
    "    plt.axvline(x = 722, color = 'r', label = '7gen')\n",
    "    plt.axvline(x = 810, color = 'r', label = '8gen')\n",
    "    plt.axvline(x = 906, color = 'r', label = '9gen')\n",
    "    plt.axvline(x = 1016, color = 'r', label = 'nogen')\n",
    "    \n",
    "def check_missing_pokemon(start_year, end_year, poke_function=dex1):\n",
    "    poke_dict = poke_dict = get_poke_dict(start_year, end_year, poke_function)\n",
    "    missingno = [poke for poke in poke_dict.keys() if poke_dict[poke] == 0]\n",
    "    return missingno"
   ]
  },
  {
   "cell_type": "code",
   "execution_count": null,
   "id": "9b0b7e3e",
   "metadata": {},
   "outputs": [],
   "source": [
    "print(check_poke_coverage(1978,2013,dex0))\n",
    "print(check_poke_coverage(1990,2010,dex1))\n",
    "print(check_poke_coverage(1980,2012,dex2))\n",
    "print(check_poke_coverage(1980,2012,dex3))"
   ]
  },
  {
   "cell_type": "code",
   "execution_count": null,
   "id": "a6c30997",
   "metadata": {},
   "outputs": [],
   "source": [
    "check_poke_distribution(1980,2012,dex0)"
   ]
  },
  {
   "cell_type": "code",
   "execution_count": null,
   "id": "313abc1b",
   "metadata": {},
   "outputs": [],
   "source": [
    "check_poke_distribution(1990,2010,dex1)"
   ]
  },
  {
   "cell_type": "code",
   "execution_count": null,
   "id": "b43b63a0",
   "metadata": {},
   "outputs": [],
   "source": [
    "check_poke_distribution(1980,2012,dex2)"
   ]
  },
  {
   "cell_type": "code",
   "execution_count": null,
   "id": "c653bb86",
   "metadata": {},
   "outputs": [],
   "source": [
    "check_missing_pokemon(1975,2017,dex1)"
   ]
  },
  {
   "cell_type": "code",
   "execution_count": null,
   "id": "93bd90d8",
   "metadata": {},
   "outputs": [],
   "source": []
  }
 ],
 "metadata": {
  "kernelspec": {
   "display_name": "Python 3 (ipykernel)",
   "language": "python",
   "name": "python3"
  },
  "language_info": {
   "codemirror_mode": {
    "name": "ipython",
    "version": 3
   },
   "file_extension": ".py",
   "mimetype": "text/x-python",
   "name": "python",
   "nbconvert_exporter": "python",
   "pygments_lexer": "ipython3",
   "version": "3.9.12"
  }
 },
 "nbformat": 4,
 "nbformat_minor": 5
}
